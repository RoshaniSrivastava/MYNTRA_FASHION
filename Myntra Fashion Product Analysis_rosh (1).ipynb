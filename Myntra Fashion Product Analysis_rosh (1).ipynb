{
 "cells": [
  {
   "cell_type": "markdown",
   "id": "95c03ac5",
   "metadata": {},
   "source": [
    "# MYNTRA FASHION PRODUCT ANALYSIS\n",
    " -- By: Roshani Srivastava\n",
    " "
   ]
  },
  {
   "cell_type": "markdown",
   "id": "334e1d72",
   "metadata": {},
   "source": [
    "## Overview : Myntra(Online Fashion Stores)\n",
    "- Company Ethos : A Fashion & Lifestyle Company\n",
    "- Parent Company : Flipkart-Walmart\n",
    "- CEO : Mr. Aman Nagaram\n",
    "- Target Segment : Mass premium, Urban 18-35 yrs. Men + Women\n",
    "- Categories : Home, Beauty & Lifestyle Products"
   ]
  },
  {
   "cell_type": "markdown",
   "id": "b46ac3cb",
   "metadata": {},
   "source": [
    "## About Myntra :\n",
    "- Products : 5L+\n",
    "- Brands : 5000+\n",
    "- Sellers : 2000+\n",
    "- Return policy : 15 days\n",
    "- App store download : 50M+\n",
    "- App store rating : 4.4"
   ]
  },
  {
   "cell_type": "markdown",
   "id": "8a210802",
   "metadata": {},
   "source": [
    "### When it comes to shopping it goes without saying that girls are the best shoppers. Is it true or not ? Let’s find out.\n",
    "Here we will take a part of the Myntra fashion product data and try to find some insights."
   ]
  },
  {
   "cell_type": "markdown",
   "id": "b67364de",
   "metadata": {},
   "source": [
    "#### Importing Libraries"
   ]
  },
  {
   "cell_type": "code",
   "execution_count": 1,
   "id": "0995b070",
   "metadata": {},
   "outputs": [],
   "source": [
    "import numpy as np\n",
    "import pandas as pd\n",
    "import matplotlib.pyplot as plt\n",
    "import seaborn as sns"
   ]
  },
  {
   "cell_type": "markdown",
   "id": "57457ce1",
   "metadata": {},
   "source": [
    "#### Importing Dataset"
   ]
  },
  {
   "cell_type": "code",
   "execution_count": 2,
   "id": "13a3c43e",
   "metadata": {},
   "outputs": [],
   "source": [
    "df = pd.read_csv(\"D:\\Myntra fashions\\Myntra-Fashion-Product-Analysis-main\\myntra_products_catalog.csv\")"
   ]
  },
  {
   "cell_type": "markdown",
   "id": "b29f12ca",
   "metadata": {},
   "source": [
    "Lets have a look at Dataset"
   ]
  },
  {
   "cell_type": "code",
   "execution_count": 3,
   "id": "24fe6755",
   "metadata": {},
   "outputs": [
    {
     "data": {
      "text/html": [
       "<div>\n",
       "<style scoped>\n",
       "    .dataframe tbody tr th:only-of-type {\n",
       "        vertical-align: middle;\n",
       "    }\n",
       "\n",
       "    .dataframe tbody tr th {\n",
       "        vertical-align: top;\n",
       "    }\n",
       "\n",
       "    .dataframe thead th {\n",
       "        text-align: right;\n",
       "    }\n",
       "</style>\n",
       "<table border=\"1\" class=\"dataframe\">\n",
       "  <thead>\n",
       "    <tr style=\"text-align: right;\">\n",
       "      <th></th>\n",
       "      <th>ProductID</th>\n",
       "      <th>ProductName</th>\n",
       "      <th>ProductBrand</th>\n",
       "      <th>Gender</th>\n",
       "      <th>Price (INR)</th>\n",
       "      <th>NumImages</th>\n",
       "      <th>Description</th>\n",
       "      <th>PrimaryColor</th>\n",
       "    </tr>\n",
       "  </thead>\n",
       "  <tbody>\n",
       "    <tr>\n",
       "      <th>0</th>\n",
       "      <td>10017413</td>\n",
       "      <td>DKNY Unisex Black &amp; Grey Printed Medium Trolle...</td>\n",
       "      <td>DKNY</td>\n",
       "      <td>Unisex</td>\n",
       "      <td>11745</td>\n",
       "      <td>7</td>\n",
       "      <td>Black and grey printed medium trolley bag, sec...</td>\n",
       "      <td>Black</td>\n",
       "    </tr>\n",
       "    <tr>\n",
       "      <th>1</th>\n",
       "      <td>10016283</td>\n",
       "      <td>EthnoVogue Women Beige &amp; Grey Made to Measure ...</td>\n",
       "      <td>EthnoVogue</td>\n",
       "      <td>Women</td>\n",
       "      <td>5810</td>\n",
       "      <td>7</td>\n",
       "      <td>Beige &amp; Grey made to measure kurta with churid...</td>\n",
       "      <td>Beige</td>\n",
       "    </tr>\n",
       "    <tr>\n",
       "      <th>2</th>\n",
       "      <td>10009781</td>\n",
       "      <td>SPYKAR Women Pink Alexa Super Skinny Fit High-...</td>\n",
       "      <td>SPYKAR</td>\n",
       "      <td>Women</td>\n",
       "      <td>899</td>\n",
       "      <td>7</td>\n",
       "      <td>Pink coloured wash 5-pocket high-rise cropped ...</td>\n",
       "      <td>Pink</td>\n",
       "    </tr>\n",
       "    <tr>\n",
       "      <th>3</th>\n",
       "      <td>10015921</td>\n",
       "      <td>Raymond Men Blue Self-Design Single-Breasted B...</td>\n",
       "      <td>Raymond</td>\n",
       "      <td>Men</td>\n",
       "      <td>5599</td>\n",
       "      <td>5</td>\n",
       "      <td>Blue self-design bandhgala suitBlue self-desig...</td>\n",
       "      <td>Blue</td>\n",
       "    </tr>\n",
       "    <tr>\n",
       "      <th>4</th>\n",
       "      <td>10017833</td>\n",
       "      <td>Parx Men Brown &amp; Off-White Slim Fit Printed Ca...</td>\n",
       "      <td>Parx</td>\n",
       "      <td>Men</td>\n",
       "      <td>759</td>\n",
       "      <td>5</td>\n",
       "      <td>Brown and off-white printed casual shirt, has ...</td>\n",
       "      <td>White</td>\n",
       "    </tr>\n",
       "  </tbody>\n",
       "</table>\n",
       "</div>"
      ],
      "text/plain": [
       "   ProductID                                        ProductName ProductBrand  \\\n",
       "0   10017413  DKNY Unisex Black & Grey Printed Medium Trolle...         DKNY   \n",
       "1   10016283  EthnoVogue Women Beige & Grey Made to Measure ...   EthnoVogue   \n",
       "2   10009781  SPYKAR Women Pink Alexa Super Skinny Fit High-...       SPYKAR   \n",
       "3   10015921  Raymond Men Blue Self-Design Single-Breasted B...      Raymond   \n",
       "4   10017833  Parx Men Brown & Off-White Slim Fit Printed Ca...         Parx   \n",
       "\n",
       "   Gender  Price (INR)  NumImages  \\\n",
       "0  Unisex        11745          7   \n",
       "1   Women         5810          7   \n",
       "2   Women          899          7   \n",
       "3     Men         5599          5   \n",
       "4     Men          759          5   \n",
       "\n",
       "                                         Description PrimaryColor  \n",
       "0  Black and grey printed medium trolley bag, sec...        Black  \n",
       "1  Beige & Grey made to measure kurta with churid...        Beige  \n",
       "2  Pink coloured wash 5-pocket high-rise cropped ...         Pink  \n",
       "3  Blue self-design bandhgala suitBlue self-desig...         Blue  \n",
       "4  Brown and off-white printed casual shirt, has ...        White  "
      ]
     },
     "execution_count": 3,
     "metadata": {},
     "output_type": "execute_result"
    }
   ],
   "source": [
    "df.head()"
   ]
  },
  {
   "cell_type": "code",
   "execution_count": 4,
   "id": "64f05e52",
   "metadata": {},
   "outputs": [
    {
     "data": {
      "text/plain": [
       "<bound method DataFrame.info of        ProductID                                        ProductName  \\\n",
       "0       10017413  DKNY Unisex Black & Grey Printed Medium Trolle...   \n",
       "1       10016283  EthnoVogue Women Beige & Grey Made to Measure ...   \n",
       "2       10009781  SPYKAR Women Pink Alexa Super Skinny Fit High-...   \n",
       "3       10015921  Raymond Men Blue Self-Design Single-Breasted B...   \n",
       "4       10017833  Parx Men Brown & Off-White Slim Fit Printed Ca...   \n",
       "...          ...                                                ...   \n",
       "12486   10262843  Pepe Jeans Men Black Hammock Slim Fit Low-Rise...   \n",
       "12487   10261721                 Mochi Women Gold-Toned Solid Heels   \n",
       "12488   10261607  612 league Girls Navy Blue & White Printed Reg...   \n",
       "12489   10266621  Bvlgari Men Aqva Pour Homme Marine Eau de Toil...   \n",
       "12490   10265199  Pepe Jeans Men Black & Grey Striped Polo Colla...   \n",
       "\n",
       "      ProductBrand  Gender  Price (INR)  NumImages  \\\n",
       "0             DKNY  Unisex        11745          7   \n",
       "1       EthnoVogue   Women         5810          7   \n",
       "2           SPYKAR   Women          899          7   \n",
       "3          Raymond     Men         5599          5   \n",
       "4             Parx     Men          759          5   \n",
       "...            ...     ...          ...        ...   \n",
       "12486   Pepe Jeans     Men         1299          7   \n",
       "12487        Mochi   Women         1990          5   \n",
       "12488   612 league   Girls          602          4   \n",
       "12489      Bvlgari     Men         8950          2   \n",
       "12490   Pepe Jeans     Men          799          5   \n",
       "\n",
       "                                             Description PrimaryColor  \n",
       "0      Black and grey printed medium trolley bag, sec...        Black  \n",
       "1      Beige & Grey made to measure kurta with churid...        Beige  \n",
       "2      Pink coloured wash 5-pocket high-rise cropped ...         Pink  \n",
       "3      Blue self-design bandhgala suitBlue self-desig...         Blue  \n",
       "4      Brown and off-white printed casual shirt, has ...        White  \n",
       "...                                                  ...          ...  \n",
       "12486  Black dark wash 5-pocket low-rise jeans, clean...        Black  \n",
       "12487  A pair of gold-toned open toe heels, has regul...         Gold  \n",
       "12488  Navy Blue and White printed mid-rise denim sho...         Blue  \n",
       "12489  Bvlgari Men Aqva Pour Homme Marine Eau de Toil...          NaN  \n",
       "12490  Black and grey striped T-shirt, has a polo col...        Black  \n",
       "\n",
       "[12491 rows x 8 columns]>"
      ]
     },
     "execution_count": 4,
     "metadata": {},
     "output_type": "execute_result"
    }
   ],
   "source": [
    "df.info"
   ]
  },
  {
   "cell_type": "markdown",
   "id": "40111d6f",
   "metadata": {},
   "source": [
    "Now will check if there is any null values present in dataset\n"
   ]
  },
  {
   "cell_type": "code",
   "execution_count": 5,
   "id": "341282ca",
   "metadata": {},
   "outputs": [
    {
     "data": {
      "text/plain": [
       "ProductID         0\n",
       "ProductName       0\n",
       "ProductBrand      0\n",
       "Gender            0\n",
       "Price (INR)       0\n",
       "NumImages         0\n",
       "Description       0\n",
       "PrimaryColor    894\n",
       "dtype: int64"
      ]
     },
     "execution_count": 5,
     "metadata": {},
     "output_type": "execute_result"
    }
   ],
   "source": [
    "df.isnull().sum()"
   ]
  },
  {
   "cell_type": "markdown",
   "id": "6618f99f",
   "metadata": {},
   "source": [
    "Now we saw 'PrimaryColor' is the only column which has null values, will fill that null values with 'others' "
   ]
  },
  {
   "cell_type": "code",
   "execution_count": 6,
   "id": "435ad591",
   "metadata": {},
   "outputs": [],
   "source": [
    "#Now the null values in primary colors is filled with 'other'\n",
    "df['PrimaryColor'] = df['PrimaryColor'].fillna('Other')"
   ]
  },
  {
   "cell_type": "code",
   "execution_count": 7,
   "id": "8124086a",
   "metadata": {},
   "outputs": [],
   "source": [
    "#converting all strings in dataframe to lowercase\n",
    "df = df.applymap(lambda s:s.lower() if type(s) == str else s)"
   ]
  },
  {
   "cell_type": "code",
   "execution_count": 8,
   "id": "a6c350f2",
   "metadata": {},
   "outputs": [],
   "source": [
    "#Removing leading spaces in primary color column\n",
    "df['PrimaryColor'] = df['PrimaryColor'].str.lstrip()"
   ]
  },
  {
   "cell_type": "markdown",
   "id": "4677f5ec",
   "metadata": {},
   "source": [
    "Now will check for the various brands availability"
   ]
  },
  {
   "cell_type": "code",
   "execution_count": 9,
   "id": "bd0549df",
   "metadata": {},
   "outputs": [
    {
     "name": "stdout",
     "output_type": "stream",
     "text": [
      "various brands available:  ['dkny' 'ethnovogue' 'spykar' 'raymond' 'parx' 'showoff' 'kenneth cole'\n",
      " 'police' 'vishudh' 'being human' 'homesake' 'sej by nisha gupta'\n",
      " 'yak yak' 'parfait' 'michael kors' 'highlander' 'jewel junction' 'id'\n",
      " 'story@home' 'gini and jony' 'sera' 'accessher' 'alcis'\n",
      " 'difference of opinion' 'tokyo talkies' 'anna sui' 'her by invictus'\n",
      " 'soie' 'lara karen' 'urban dog' 'ahilya' 'vastramay' 'campus sutra'\n",
      " 'fido dido' 'miah decor' 'buckleup' 'peter england' 'aigner' 'lady lyka'\n",
      " 'park avenue' 'roadster' 'u.s. polo assn. denim co.' 'sweet dreams'\n",
      " 'kazo' 'stylo bug' 'bvlgari' 'qraa men' 'gas' 'with' 'zush'\n",
      " 'jbn creation' 'u.s. polo assn. kids' 'dressberry' 'colorplus' 'lakme'\n",
      " 'allen solly woman' 'palm tree' 'arrow' 'david beckham' 'mango' 'carrera'\n",
      " 'romee' 'tayhaa' 'ishin' 'shoe couture' 'harbornbay' 'keds' 'rozia'\n",
      " 'aj dezines' 'monte carlo' 'even' 'ether' 'crimsoune club'\n",
      " 'russell athletic' 'mimosa' 'puma' 'blackberrys' 'playdate' 'rocia'\n",
      " 'marvel by wear your mind' 'annabelle by pantaloons' 'berrytree'\n",
      " 'simon carter london' 'beli' 'nautica' 'jn joy' 'the silhouette store'\n",
      " 'xpose' 'mbe' 'mast & harbour' 'jc collection' 'guess' 'neudis'\n",
      " 'stylestone' 'sassafras' 'united colors of benetton' 'vlcc'\n",
      " 'kook n keech disney' 'bubblegummers' 'hoopers' 'peter england casuals'\n",
      " 'honey by pantaloons' 'pink cow' 'dorothy perkins' 'crew street'\n",
      " 'bhama couture' 'zippo' 'daffodils' 'aramis' 'c9 airwear' 'oxolloxo'\n",
      " 'soumya' 'crocs' 'carlton london' 'here&now' 'french connection'\n",
      " 'next look' 'xyxx' 'shaze' 'bitiya by bhama' 'geox' 'tulsattva'\n",
      " 'exclusivelane' 'shiseido' 'msc' 'anekaant' 'innisfree' 'wintage'\n",
      " 'locomotive' 'bene kleed' 'varanga' 'hrx by hrithik roshan' 'avira home'\n",
      " 'force 10' 'maxima' 'aapno rajasthan' 'fortune' 'moedbuille' 'blue saint'\n",
      " 'maspar' 'w' 'scorpius' 'ecko unltd' 'bering' 'healers' 'kvsfab' 'movado'\n",
      " 'cinocci' 'mitera' 'harvard' 'ojjasvi' 'wild stone' 'avant-garde paris'\n",
      " 'gliders' 'u&f' 'abhishti' 'dreamscape' 'oddcroft' 'flying machine'\n",
      " 'it luggage' 'nike' 'one friday' 'indibelle' 'dynamocks' 'arrow new york'\n",
      " 'titan' 'zoop' 'levis' 'ivoc' 'athena' 'elizabeth arden' 'arrow sport'\n",
      " 'red tape' 'panahi' 'veni vidi vici' 'code by lifestyle'\n",
      " 'fame forever by lifestyle' 'sonata' 'yuris' 'sherrif shoes' 'timesmith'\n",
      " 'cherry crumble' 'senorita' 'chutput' 'slumber jill' 'metro'\n",
      " 'marks & spencer' 'fastrack' 'dodo & moa' 'fabseasons' 'shaily'\n",
      " 'mirchi fashion' 'sergio tacchini' 'janasya' 'bossini' 'rajnandini'\n",
      " 'call it spring' 'coolers' 'chhabra 555' 'la loft' 'cottinfab'\n",
      " 'calvin klein' 'liberty' 'imyoung' 'clay craft' 'crunchy fashion'\n",
      " 'respiro' 'truebrowns' 'trend arrest' 'besiva' 'incolor' 'kraus jeans'\n",
      " 'richard parker by pantaloons' 'mali fionna' 'kryptic' 'san frissco'\n",
      " 'you got plan b' 'the kaftan company' 'simply' 'infuzze' 'sir corbett'\n",
      " 'home decor india' 'vero moda' 'be indi' 'da intimo' 'camey' 'solemio'\n",
      " 'msfq' 'forever new' 'killer' 'aurelia' 'miss chase' 'saadgi'\n",
      " 'lee cooper' 'foolzy' 'zheia' 'friskers' 'ucla' 'genie' 'femmora'\n",
      " 'fos lighting' 'firstclap' 'clovia' 'style quotient' 'rajasthan decor'\n",
      " 'sg yuvraj' 'urban tribe' 'casio' 'vrinda' 'lady stark' 'newton'\n",
      " 'bodycare' 'alvaro castagnino' 'organic harvest' 'campus'\n",
      " 'free authority' 'dennmarks' 'voylla' 'wish karo' 'mboss' 'mochi' 'elle'\n",
      " 'obsessions' 'living essence' 'giordano' 'hi rels' 'ddecor' 'invictus'\n",
      " 'evoke 1899' 'newport' 'schwarzkopf professional' 'louis philippe'\n",
      " 'panit' 'selected' 'sojanya' 'sangria' 'divine casa' 'unravel india'\n",
      " 'steenbok' 'belle fille' 'kittens' 'slub' 'blissta' 'alena' 'swhf'\n",
      " 'jump usa' 'st. ives' 'faballey' 'nucleus' 'home sparkle' 'shiloh'\n",
      " 'allen solly' 'kleio' 'maniac' 'globus' 'fourwalls'\n",
      " 'akkriti by pantaloons' 'genius' 'bohemia crystal' 'equinox'\n",
      " 'zink london' 'yash gallery' 'sparx' 'van heusen' 'yk' 'blue giraffe'\n",
      " 'silvermerc designs' 'black coffee' 'jacques lemans' 'ziyaa'\n",
      " 'skult by shahid kapoor' 'perfkt-u' 'zeal' 'cortina' 'pluss' 'v dot'\n",
      " 'shoetopia' 'eavan' 'masch sports' 'devis' 'namyaa' 'only' 'eske' 'miway'\n",
      " 'smiley world' 'maserati' 'archies' 'marie claire' 'chumbak' 'aber & q'\n",
      " 'people' 'gmf' 'abelino' 'cover story' 'karmic vision' 'bonjour'\n",
      " 'deco window' 'adiva' 'latin quarters' 'moda rapido' 'indian terrain'\n",
      " 'rare' 'soles' 'lavie' 'truffle collection' 'gap' 'karatcart' 'priyaasi'\n",
      " 'mine4nine' 'chrome & coral' 'fausto' 'adorn by nikita ladiwala'\n",
      " 'hancock' 'calvin klein jeans' 'secret temptation' 'heatwave' 'bownbee'\n",
      " 'baggit' 'force nxt' 'urbane' 'canary london' 'jack & jones' 'fancy mart'\n",
      " 'adorenite' 'hypernation' 'pantaloons junior' 'minions by kook n keech'\n",
      " 'caprese' 'suitltd' 'harpa' 'taavi' 'geroo jaipur' 'bamboo tree jewels'\n",
      " 'kappa' 'sher singh' 'morpheme remedies' 'kiddopanti' 'ants'\n",
      " 'allen cooper' 'pure home and living' 'comicsense.xyz'\n",
      " 'louis philippe sport' 'monrow' 'breya' 'rangmanch by pantaloons'\n",
      " 'wonder woman' 'melange by lifestyle' 'ceriz' 'eego italy' 'knotyy' 'mf'\n",
      " 'chemistry' 'treemoda' 'chambor' 'oomph' 'kazarmax' 'chkokko' 'duke'\n",
      " 'club york' 'bblunt' 'jewels galaxy' 'molly & michel' 'the beauty co.'\n",
      " 'libas' 'pipa bella' 'fosh' 'freehand' 'ed hardy' 'aditi wasan' 'akiva'\n",
      " 'franco leone' 'mufti' '7rainbow' 'beevee' 'yellow jeans' 'soludos'\n",
      " 'tresmode' 'bigbanana' 'rex straut jeans' 'hummel' 'e2o'\n",
      " 'cavallo by linen club' 'tommy hilfiger' 'presto' 'tistabene' 'boat'\n",
      " 'dennison' 'u.s. polo assn.' \"kurti's by menka\" 'saree mall'\n",
      " 'forca by lifestyle' 'valiosaa' 'ginger by lifestyle' 'iti'\n",
      " 'stylee lifestyle' 'jainish' 'cation' 'wrogn' 'gods'\n",
      " 'disney by wear your mind' 'calvin klein underwear' 'ayesha' 'woodland'\n",
      " 'indya' 'meriggiare' 'bianca' 'kook n keech marvel' 'just wow'\n",
      " 'golden peacock' 'rosaline' 'wildcraft' 'rubans' 'zaveri pearls'\n",
      " 'cutecumber' 'hammer' 'prettycat' 'johnny bravo by kook n keech' 'zivame'\n",
      " 'kook n keech garfield' 'tissu' 'turkish bath' 'nature casuals'\n",
      " 'unshaven' 'gio collection' 'ywc' 'kraft cellar' 'saral home'\n",
      " 'justpeachy' 'gerua' 'skechers' 'studio voylla' 'bruno manetti'\n",
      " 'invincible' 'global desi' 'yelloe' 'american crew' 'blisscovered'\n",
      " 'alina decor' 'manohari' 'aujjessa' 't-base' 'nba' 'ruf & tuf'\n",
      " 'spray ground' 'unknown by ayesha' 'wild west' 'pure play'\n",
      " 'puma motorsport' '20dresses' 'enamor' 'aerosoles' 'garmin'\n",
      " 'street style store' 'alom' 'dot & key' 'pinwheel' 'lotto' 'izod' 'ruosh'\n",
      " 'aarika' 'envy' 'reebok classic' 'fever' 'madame' '612 league' 'tossido'\n",
      " 'wisstler' 'ahika' 'jompers' 'yuuki' 'ahalyaa' 'z-zoom'\n",
      " 'van heusen woman' 'blacksmith' 'fungus' 'naari' 'van heusen sport'\n",
      " 'lady love' 'niza' 'saint g' 'hirolas' 'the pink moon' 'mish' 'vozaf'\n",
      " 'louis philippe jeans' 'indo era' 'calfnero' 'the house of tara'\n",
      " 'kids ville' 'the chennai silks' 'superdry' 'fox' 'anouk' 'off limits'\n",
      " 'frozen' 'dixcy scott' 'beardo' 'sherlock' 'fs mini klub' 'de moza'\n",
      " 'vareesha' 'zelocity' 'peanuts' 'denizen from levis' 'ferraiolo'\n",
      " 'yaadleen' 'peter england elite' 'seiko' 'tales & stories'\n",
      " 'daily life forever52' 'the vanca' 'and' 'the indian garage co' 'voyage'\n",
      " 'reebok' 'scoup' 'gnist' 'biba' 'raisin' 'aask' 'fabnest'\n",
      " 'signature sole' 'batman' 'star wars' 'swarovski' 'fugazee'\n",
      " 'kama ayurveda' 'adidas originals' 'fusion beats' 'bodha' 'peora'\n",
      " 'amante' 'naughty ninos' 'rajesh silk mills' 'adidas' 'allen solly sport'\n",
      " 'krafted with happiness' 'golden girl' 'rugsmith' 'skagen'\n",
      " 'masculino latino' 'lychee bags' 'ira soleil' 'corsica' 'instacrush'\n",
      " 'scuderia ferrari' 'superman' 'dailyobjects' 'the dry state'\n",
      " 'makeup revolution london' 'orange and orchid' 'captain america'\n",
      " 'teakwood leathers' 'ponds' 'inc 5' 'ek do dhai' 'natilene' 'obow'\n",
      " 'basics' 'esbeda' 'tag eye' 'proline active' 'fablestreet' 'amraoo'\n",
      " 'varkala silk sarees' 'lilpicks' 'lacoste' 'purple feather'\n",
      " 'furo by red chief' 'westclo' 'forever 21' 'barbie by many frocks &'\n",
      " 'khushal k' 'rangoli jaipur' 'i am for you' 'soulflower'\n",
      " 'allen solly junior' 'hubberholme' 'bollyglow' 'braun' 'dugristyle'\n",
      " 'hunter 1114' 'fila' 'vastraa fusion' 'renka' 'u.s. polo assn. women'\n",
      " 'antheaa' 'tikhi imli' 'wear your mind' 'moon dust' 'philips'\n",
      " 'aww hunnie' 'purple state' 'kidling' 'twisha' 'genius18' 'pepe jeans'\n",
      " 'plum' 'lapis o lupo' 'shingora' 'lino perros' 'revlon' 'momtobe'\n",
      " 'deyann' 'nauti nati' 'flavido' 'quiero' 'inddus' 'laceandme'\n",
      " 'maybelline' 'street 9' 'rain & rainbow' 'campana' 'toniq'\n",
      " 'oshkosh bgosh' 'qurvii' 'ulric de varens' 'bukkum' 'kid1' 'hidesign'\n",
      " 'sonari' 'wrangler' 'ives' 'noble faith' 'purys'\n",
      " 'beat london by pepe jeans' 'chopard' 'house of pataudi' 'invu' 'cat'\n",
      " 'esprit' 'prita' 'satrani' '109f' 'swiss military' 'carven'\n",
      " 'stupid cupid']\n"
     ]
    }
   ],
   "source": [
    "print(\"various brands available: \",df.ProductBrand.unique())"
   ]
  },
  {
   "cell_type": "code",
   "execution_count": 10,
   "id": "4a1551a6",
   "metadata": {},
   "outputs": [
    {
     "data": {
      "text/plain": [
       "677"
      ]
     },
     "execution_count": 10,
     "metadata": {},
     "output_type": "execute_result"
    }
   ],
   "source": [
    "number_of_unique_brands = len(pd.unique(df['ProductBrand']))\n",
    "number_of_unique_brands"
   ]
  },
  {
   "cell_type": "markdown",
   "id": "e16c7da7",
   "metadata": {},
   "source": [
    "Now will checkout for the different categories present in gender column"
   ]
  },
  {
   "cell_type": "code",
   "execution_count": 11,
   "id": "9b97b9c1",
   "metadata": {},
   "outputs": [
    {
     "name": "stdout",
     "output_type": "stream",
     "text": [
      "Categories in Gender:  ['unisex' 'women' 'men' 'boys' 'girls' 'unisex kids']\n"
     ]
    }
   ],
   "source": [
    "print(\"Categories in Gender: \",df.Gender.unique())"
   ]
  },
  {
   "cell_type": "markdown",
   "id": "6bac55a6",
   "metadata": {},
   "source": [
    "Now next will checkout for the different color options available"
   ]
  },
  {
   "cell_type": "code",
   "execution_count": 12,
   "id": "d8cc93cf",
   "metadata": {},
   "outputs": [
    {
     "name": "stdout",
     "output_type": "stream",
     "text": [
      "\n",
      " Categories in PrimaryColor:  ['black' 'beige' 'pink' 'blue' 'white' 'brown' 'burgundy' 'red' 'green'\n",
      " 'other' 'maroon' 'navy' 'gold' 'yellow' 'grey' 'platinum' 'silver'\n",
      " 'khaki' 'mustard' 'lavender' 'matte' 'rose' 'charcoal' 'purple' 'orange'\n",
      " 'peach' 'magenta' 'bronze']\n"
     ]
    }
   ],
   "source": [
    "print(\"\\n Categories in PrimaryColor: \",df.PrimaryColor.unique())"
   ]
  },
  {
   "cell_type": "markdown",
   "id": "7eff2395",
   "metadata": {},
   "source": [
    "Next lets checkout the price range available on myntra"
   ]
  },
  {
   "cell_type": "code",
   "execution_count": 13,
   "id": "a13748bd",
   "metadata": {},
   "outputs": [
    {
     "name": "stdout",
     "output_type": "stream",
     "text": [
      "max price:  63090\n",
      "min price:  90\n",
      "mean price:  1452.6609558882396\n"
     ]
    }
   ],
   "source": [
    "print(\"max price: \",df['Price (INR)'].max())\n",
    "print(\"min price: \",df['Price (INR)'].min())\n",
    "print(\"mean price: \",df['Price (INR)'].mean())"
   ]
  },
  {
   "cell_type": "markdown",
   "id": "92d62d04",
   "metadata": {},
   "source": [
    "### Data Visualisation"
   ]
  },
  {
   "cell_type": "markdown",
   "id": "ff73ec96",
   "metadata": {},
   "source": [
    "#### Top 10 Brands"
   ]
  },
  {
   "cell_type": "code",
   "execution_count": 14,
   "id": "1bd2966b",
   "metadata": {},
   "outputs": [
    {
     "data": {
      "text/plain": [
       "<AxesSubplot:title={'center':'Top 10 Popular Brands'}>"
      ]
     },
     "execution_count": 14,
     "metadata": {},
     "output_type": "execute_result"
    },
    {
     "data": {
      "image/png": "[encoded data removed]",
      "text/plain": [
       "<Figure size 432x288 with 1 Axes>"
      ]
     },
     "metadata": {
      "needs_background": "light"
     },
     "output_type": "display_data"
    }
   ],
   "source": [
    "df.ProductBrand.value_counts()[:10].plot(kind = 'bar', title = \"Top 10 Popular Brands\")"
   ]
  },
  {
   "cell_type": "markdown",
   "id": "fc947d96",
   "metadata": {},
   "source": [
    "#### Top 10 Expensive Brands"
   ]
  },
  {
   "cell_type": "code",
   "execution_count": 15,
   "id": "a39bf6c5",
   "metadata": {},
   "outputs": [
    {
     "data": {
      "text/plain": [
       "<AxesSubplot:xlabel='ProductBrand'>"
      ]
     },
     "execution_count": 15,
     "metadata": {},
     "output_type": "execute_result"
    },
    {
     "data": {
      "image/png": "[encoded data removed]",
      "text/plain": [
       "<Figure size 432x288 with 1 Axes>"
      ]
     },
     "metadata": {
      "needs_background": "light"
     },
     "output_type": "display_data"
    }
   ],
   "source": [
    "df1=df.groupby('ProductBrand')['Price (INR)'].mean().sort_values(ascending=False).head(10)\n",
    "df1.plot.bar()"
   ]
  },
  {
   "cell_type": "markdown",
   "id": "3c00f90b",
   "metadata": {},
   "source": [
    "#### Lets see which product belongs to which category according to gender"
   ]
  },
  {
   "cell_type": "code",
   "execution_count": 16,
   "id": "67bc9a54",
   "metadata": {},
   "outputs": [
    {
     "data": {
      "text/plain": [
       "<AxesSubplot:ylabel='ProductID'>"
      ]
     },
     "execution_count": 16,
     "metadata": {},
     "output_type": "execute_result"
    },
    {
     "data": {
      "image/png": "[encoded data removed]",
      "text/plain": [
       "<Figure size 432x288 with 1 Axes>"
      ]
     },
     "metadata": {},
     "output_type": "display_data"
    }
   ],
   "source": [
    "df.groupby('Gender')['ProductID'].count().plot.pie(autopct = \"%1.1f%%\")"
   ]
  },
  {
   "cell_type": "markdown",
   "id": "18bc9d96",
   "metadata": {},
   "source": [
    "##### Insight: Most of the product category in data belongs to women"
   ]
  },
  {
   "cell_type": "markdown",
   "id": "583623fa",
   "metadata": {},
   "source": [
    "### Most Preferable color"
   ]
  },
  {
   "cell_type": "code",
   "execution_count": 17,
   "id": "28c37e68",
   "metadata": {
    "scrolled": false
   },
   "outputs": [
    {
     "data": {
      "text/plain": [
       "<AxesSubplot:xlabel='PrimaryColor'>"
      ]
     },
     "execution_count": 17,
     "metadata": {},
     "output_type": "execute_result"
    },
    {
     "data": {
      "image/png": "[encoded data removed]",
      "text/plain": [
       "<Figure size 432x288 with 1 Axes>"
      ]
     },
     "metadata": {
      "needs_background": "light"
     },
     "output_type": "display_data"
    }
   ],
   "source": [
    "df.groupby('PrimaryColor')['ProductID'].count().plot.bar()"
   ]
  },
  {
   "cell_type": "markdown",
   "id": "e2b2f538",
   "metadata": {},
   "source": [
    "Also Created a Power BI report for Visualisations"
   ]
  },
  {
   "cell_type": "code",
   "execution_count": null,
   "id": "5184b064",
   "metadata": {},
   "outputs": [],
   "source": []
  }
 ],
 "metadata": {
  "kernelspec": {
   "display_name": "Python 3 (ipykernel)",
   "language": "python",
   "name": "python3"
  },
  "language_info": {
   "codemirror_mode": {
    "name": "ipython",
    "version": 3
   },
   "file_extension": ".py",
   "mimetype": "text/x-python",
   "name": "python",
   "nbconvert_exporter": "python",
   "pygments_lexer": "ipython3",
   "version": "3.9.12"
  }
 },
 "nbformat": 4,
 "nbformat_minor": 5
}
